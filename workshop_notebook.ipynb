{
 "cells": [
  {
   "cell_type": "markdown",
   "metadata": {
    "id": "2No8Wbw3TpTK"
   },
   "source": [
    "<img src=\"https://drive.google.com/uc?id=1xoRrlKGNXAYJ3zYjWOgvon6SmTQmvjo5\" alt=\"data-vis-logo\" width=\"150\"/>\n"
   ]
  },
  {
   "cell_type": "markdown",
   "metadata": {
    "id": "Ma6K41SkLXOI"
   },
   "source": [
    "# Visualização de dados dentro e fora das quatro linhas\n",
    "---\n",
    "\n",
    "[PT] Neste notebook vamos explorar, com exemplos práticos, como retirar o máximo proveito da exploração visual para detectar padrões a partir de um conjunto de dados. \n",
    "\n",
    "\n",
    "[EN] In this notebook we'll walkthrough practical examples of how to use visual exploration to detect patterns in a dataset."
   ]
  },
  {
   "cell_type": "markdown",
   "metadata": {
    "id": "T8QdbZp_LO6k"
   },
   "source": [
    "## 📦 Importar pacotes / Imports"
   ]
  },
  {
   "cell_type": "code",
   "execution_count": null,
   "metadata": {
    "colab": {
     "base_uri": "https://localhost:8080/"
    },
    "id": "KzchLLjELWt3",
    "outputId": "4aa6509f-8781-4562-b4eb-6418fee90851"
   },
   "outputs": [],
   "source": [
    "from statsbombpy import sb\n",
    "import altair as alt\n",
    "import numpy as np\n",
    "import pandas as pd\n",
    "import re\n",
    "from feedzai_altair_theme import tokens"
   ]
  },
  {
   "cell_type": "markdown",
   "metadata": {
    "id": "nfJwNeNym8J-",
    "tags": []
   },
   "source": [
    "## 🛠 Ferramentas Auxiliares / Helper Functions"
   ]
  },
  {
   "cell_type": "code",
   "execution_count": null,
   "metadata": {
    "colab": {
     "base_uri": "https://localhost:8080/"
    },
    "id": "izQ8192o0CET",
    "outputId": "6e7d58b2-e9a8-421f-fcf6-b2c88eec1bc1"
   },
   "outputs": [],
   "source": [
    "# Carrega tema para a biblioteca de visualização de dados Altair.\n",
    "# Loads theme for the Altair data visualization library.\n",
    "\n",
    "alt.themes.enable(\"feedzai\")"
   ]
  },
  {
   "cell_type": "code",
   "execution_count": null,
   "metadata": {
    "id": "xAwjabtL8y3M"
   },
   "outputs": [],
   "source": [
    "# SVG path da forma de uma cruz.\n",
    "# SVG path of a cross.\n",
    "\n",
    "cross_shape = \"M 0.7 0.7 L -0.7 -0.7 M -0.7 0.7 L 0.7 -0.7\""
   ]
  },
  {
   "cell_type": "code",
   "execution_count": null,
   "metadata": {
    "id": "nsjIqVSJ2HJd"
   },
   "outputs": [],
   "source": [
    "# Escala de cores de valores boleanos para dois tons de verde-azulado. Utilizado na codificação da variável is_goal.\n",
    "# Color scale from boolean values to two shades of teal. Used when encoding is_goal.\n",
    "\n",
    "goal_color_scale = alt.Scale(\n",
    "    domain=[True, False],\n",
    "    range=[\n",
    "        tokens.COLOR_PRIMITIVES[\"teal\"][\"50\"],\n",
    "        tokens.COLOR_PRIMITIVES[\"teal\"][\"20\"]\n",
    "    ])"
   ]
  },
  {
   "cell_type": "code",
   "execution_count": null,
   "metadata": {
    "id": "-2tPbb7PV-Fo"
   },
   "outputs": [],
   "source": [
    "# Função que desenha um campo de futebol.\n",
    "# Function that renders a football pitch.\n",
    "\n",
    "def render_pitch(width = 120, height = 80):\n",
    "    pitch_color = tokens.COLOR_PRIMITIVES[\"teal\"][\"10\"]\n",
    "    line_color = \"#fff\"\n",
    "    outside_lines = alt.Chart(pd.DataFrame({\n",
    "        \"x\": [0, width, width, 0, width / 2],\n",
    "        \"y\": [0, 0, height, height, 0]\n",
    "    })).mark_rect(fill=pitch_color, opacity=0.8,stroke=line_color).encode(\n",
    "        x=alt.X(\"x\", axis=None),\n",
    "        y=alt.Y(\"y\", axis=None)\n",
    "    )\n",
    "    \n",
    "    def render_pitch_lines(df):\n",
    "        return alt.Chart(df.reset_index()).mark_line(\n",
    "          stroke=line_color,\n",
    "          strokeWidth = 1\n",
    "        ).encode(\n",
    "          x=alt.X(\"x\"),\n",
    "          y=alt.Y(\"y\"),\n",
    "          order='index'\n",
    "        )\n",
    "    \n",
    "    penalty_box_left = render_pitch_lines(\n",
    "      pd.DataFrame({\n",
    "      \"x\": [0, 16.5, 16.5, 0, 0],\n",
    "      \"y\": [height / 2 - 18.32 / 2 - 11, height / 2 - 18.32 / 2 - 11, height / 2 + 18.32 / 2 + 11, height / 2 + 18.32 / 2 + 11, height / 2 + 18.32 / 2 + 11],\n",
    "    }))\n",
    "    \n",
    "    penalty_box_right = render_pitch_lines(\n",
    "      pd.DataFrame({\n",
    "      \"x\": [width, width - 16.5, width - 16.5, width, width],\n",
    "      \"y\": [height / 2 - 18.32 / 2 - 11, height / 2 - 18.32 / 2 - 11, height / 2 + 18.32 / 2 + 11, height / 2 + 18.32 / 2 + 11, height / 2 + 18.32 / 2 + 11],\n",
    "    }))\n",
    "    \n",
    "    centre_line = render_pitch_lines(\n",
    "      pd.DataFrame({\n",
    "          \"x\": [width / 2, width / 2],\n",
    "          \"y\": [0, height]\n",
    "      })\n",
    "    )\n",
    "    \n",
    "    left_box = render_pitch_lines(\n",
    "      pd.DataFrame({\n",
    "      \"x\": [0, 5.5, 5.5, 0, 0],\n",
    "      \"y\": [height / 2 + 18.32 / 2, height / 2 + 18.32 / 2, height / 2 - 18.32 / 2, height / 2 - 18.32 / 2, height / 2 + 18.32 / 2],\n",
    "    }))\n",
    "    \n",
    "    right_box = render_pitch_lines(\n",
    "      pd.DataFrame({\n",
    "      \"x\": [width, width - 5.5, width - 5.5, width, width],\n",
    "      \"y\": [height / 2 + 18.32 / 2, height / 2 + 18.32 / 2, height / 2 - 18.32 / 2, height / 2 - 18.32 / 2, height / 2 + 18.32 / 2],\n",
    "    }))\n",
    "    \n",
    "    circles = alt.Chart(pd.DataFrame({\n",
    "      \"x\": [11, width / 2, width - 11, width/2 ],\n",
    "      \"y\": [height / 2, height / 2, height / 2, height / 2],\n",
    "    })).mark_circle(fill=line_color, opacity=1).encode(\n",
    "        x=alt.X(\"x\"),\n",
    "        y=alt.Y(\"y\"),\n",
    "    )\n",
    "    \n",
    "    centre_mark = alt.Chart(pd.DataFrame({\n",
    "      \"x\": [width / 2],\n",
    "      \"y\": [height /2]\n",
    "    })).mark_arc(stroke=line_color, fill=\"transparent\", opacity=1, radius=20).encode(\n",
    "      x=alt.X(\"x\"),\n",
    "      y=alt.Y(\"y\"),\n",
    "    )\n",
    "    \n",
    "    return outside_lines + centre_line + penalty_box_left + left_box + penalty_box_right + right_box + circles + centre_mark"
   ]
  },
  {
   "cell_type": "markdown",
   "metadata": {
    "id": "vDthVNzuog3n"
   },
   "source": [
    "## ⚽️ Carregar dados / Fetch data\n",
    "\n",
    "[PT] Vamos explorar dados da [StastBomb](https://statsbomb.com/), que agregada dados multidimensionais de eventos por jogo. Utilizamos a biblioteca [stasbombpy](https://github.com/statsbomb/statsbombpy) para carregarmos facilmente dados Statsbomb em Python.\n",
    "\n",
    "Neste workshop vamos analisar dados do **Europeu Feminino UEFA 2022**.\n",
    "\n",
    "--- \n",
    "\n",
    "[EN] We will use data from [StastBomb](https://statsbomb.com/), that collect rich event data per match. We make use of the [stasbombpy](https://github.com/statsbomb/statsbombpy) data package to to easily fetch StatsBomb data into Python.\n",
    "\n",
    "For today's workshop we will focus on the **2022 UEFA Women's Euro**."
   ]
  },
  {
   "cell_type": "code",
   "execution_count": null,
   "metadata": {
    "id": "J-_OVXGLSkuJ"
   },
   "outputs": [],
   "source": [
    "# Parametros de pesquisa.\n",
    "# Search parameters.\n",
    "\n",
    "W_EURO = {\n",
    "    \"division\": \"UEFA Women's Euro\",\n",
    "    \"country\": \"Europe\",\n",
    "    \"season\": \"2022\",\n",
    "    \"gender\": \"female\"\n",
    "}"
   ]
  },
  {
   "cell_type": "code",
   "execution_count": null,
   "metadata": {
    "colab": {
     "base_uri": "https://localhost:8080/"
    },
    "id": "eAFGvEImLE_y",
    "outputId": "858121d6-8b90-4958-b032-0ee147286208"
   },
   "outputs": [],
   "source": [
    "euro_events = sb.competition_events(**W_EURO)"
   ]
  },
  {
   "cell_type": "markdown",
   "metadata": {
    "id": "9MPv4kC0gZF8"
   },
   "source": [
    "[PT] O conjunto de dados `euro_events` contém todos os eventos de todos os jogos do Euro. Vamos espreitar:\n",
    "\n",
    "[EN] Our dataset `euro_events` contains all events for the matches that happened in the Euro. Let's take a look:"
   ]
  },
  {
   "cell_type": "code",
   "execution_count": null,
   "metadata": {
    "colab": {
     "base_uri": "https://localhost:8080/"
    },
    "id": "C16BWB05fQIs",
    "outputId": "1ac7a0d6-48d9-4186-d0b0-6c771a466c48"
   },
   "outputs": [],
   "source": [
    "euro_events"
   ]
  },
  {
   "cell_type": "markdown",
   "metadata": {
    "id": "uB8GaHvcgxKU"
   },
   "source": [
    "[PT] Podemos reparar que o conjunto de dados é esparso. Como já devem ter notado, muitas das colunas só fazem sentido para determinados tipos de eventos. Por exemplo, `shot_body_part`, `shot_deflected` ou `shot_end_location`, só são relevantes para eventos do tipo `Shot`. Este formato mais horizontal é conhecido como \n",
    "[tidy data](https://cran.r-project.org/web/packages/tidyr/vignettes/tidy-data.html). Em conjuntos de dados tidy, linhas são observações e colunas são variáveis. Este formato torna mais facil trabalhar dados para visualizações.\n",
    "\n",
    "[EN] We can see that the dataset is very sparse. As you've probably noticed many of the columns only make sense for some types of events. For example `shot_body_part`, `shot_deflected` or `shot_end_location` are only relevant for events of type `Shot`. This wide data format is known as [tidy data](https://cran.r-project.org/web/packages/tidyr/vignettes/tidy-data.html). In tidy datasets rows are observations and columns are variables. This standard makes it easier to wrangle data form visualizations.\n",
    "\n",
    "\n"
   ]
  },
  {
   "cell_type": "code",
   "execution_count": null,
   "metadata": {
    "colab": {
     "base_uri": "https://localhost:8080/"
    },
    "id": "zjVfNRPCiObt",
    "outputId": "12c690af-343f-4d6a-8b0c-7e867b995ad8",
    "scrolled": true,
    "tags": []
   },
   "outputs": [],
   "source": [
    "# Tipos de eventos\n",
    "# Types of events\n",
    "set(euro_events[\"type\"])"
   ]
  },
  {
   "cell_type": "code",
   "execution_count": null,
   "metadata": {
    "colab": {
     "base_uri": "https://localhost:8080/"
    },
    "id": "kB1RGARye_HV",
    "outputId": "dcddc6ae-ba02-4f4a-bfe7-1ba80a1678e9",
    "scrolled": true,
    "tags": []
   },
   "outputs": [],
   "source": [
    "# Variáveis disponíveis\n",
    "# Available variables\n",
    "list(euro_events.columns)"
   ]
  },
  {
   "cell_type": "code",
   "execution_count": null,
   "metadata": {
    "id": "O-IwVkzQw65g"
   },
   "outputs": [],
   "source": [
    "# Variáveis calculadas\n",
    "# Calculated variables\n",
    "\n",
    "euro_events.loc[:,\"is_goal\"] = euro_events.apply(\n",
    "    lambda row: row.shot_outcome == \"Goal\", axis=1)\n",
    "euro_events.loc[:,\"location_x\"] = euro_events.apply(\n",
    "    lambda row: row.location[0] if isinstance(row.location, list) else np.nan, axis=1)\n",
    "euro_events.loc[:,\"location_y\"] = euro_events.apply(\n",
    "    lambda row: row.location[1] if isinstance(row.location, list) else np.nan, axis=1)"
   ]
  },
  {
   "cell_type": "markdown",
   "metadata": {
    "id": "0_ncfz6RieMy"
   },
   "source": [
    "## 🧭 Começar a explorar / Starting the Exploration\n",
    "\n",
    "[PT] Quando temos um novo conjunto de dados em mãos, é útil calcular algumas estatísticas sumárias. Há algumas ferramentas genéricas, como [pandas-profilling](https://pandas-profiling.ydata.ai/docs/master/index.html), que permitem obter rapidamente estatísticas e gráficos descritivos.\n",
    "\n",
    "Nesta sessão, vamos saltar alguns destes passos à frente, e focar-nos em como explorar histórias nos nossos dados.\n",
    "\n",
    "- Quem foi a jogadora inglesa que mais rematou? Foi a mesma jogarda que marcou mais golos? [**Ranking** / Ordered Bar]\n",
    "\n",
    "---- \n",
    "\n",
    "[EN] Often, when we get our hands on a new dataset, we start by running some summary statistics to get a feel for the dataset. There are great generic tools, such as [pandas-profilling](https://pandas-profiling.ydata.ai/docs/master/index.html), to get a quick first summary of the data with statistics, data health checks, and charts for visualizing distributions.\n",
    "\n",
    "For today's session, we will move a few steps ahead, and focus on how to explore a story in our data.\n",
    "\n",
    "- Out of the English players, who was the top scorer? Was it the same player that made the most shots? [**Ranking** / Ordered Bar]"
   ]
  },
  {
   "cell_type": "code",
   "execution_count": null,
   "metadata": {
    "colab": {
     "base_uri": "https://localhost:8080/",
     "height": 365
    },
    "id": "cUgncyewl4W4",
    "outputId": "1a0eb919-bcea-4b76-dce1-d12da8ff6f66"
   },
   "outputs": [],
   "source": [
    "england_shots = euro_events[\n",
    "    (euro_events[\"team\"] == \"England Women's\") & \n",
    "    (euro_events[\"type\"] == \"Shot\")\n",
    "  ]\n",
    "\n",
    "# Cada barra corresponde a uma jogadora. Como os nomes das jogadoras podem ser\n",
    "# um pouco extensos, utilizamos um gráficos de barras horizontal em vez de vertical.\n",
    "\n",
    "# The labels for each bar are player's names. As these can be quite long, we plot\n",
    "# it as an horizontal bar chart so there's enough room for the text.\n",
    "\n",
    "alt.Chart(england_shots).mark_bar(\n",
    "    ).encode(\n",
    "    y=alt.Y(\"player\", sort=\"-x\", axis=alt.Axis(title=\"Player\")),\n",
    "    x=alt.X(\"count()\", axis=alt.Axis(title=\"Number of shots\")),\n",
    "    # color=\"shot_outcome\"\n",
    "    # color = alt.Color(\"is_goal\", scale=goal_color_scale)\n",
    ").properties(\n",
    "    \n",
    "    # title={ \n",
    "    #    \"text\": [\"Ellen White, Georgia Stanway, and Beth Mead made the most shots\"],\n",
    "    #    \"subtitle\": [\"Among the players with most shots, Beth Mead is the most successful\"]\n",
    "    # }\n",
    ")"
   ]
  },
  {
   "cell_type": "code",
   "execution_count": null,
   "metadata": {
    "colab": {
     "base_uri": "https://localhost:8080/"
    },
    "id": "r_HKXmakp8Rk",
    "outputId": "48857cef-bdb9-47ff-a304-f7244f1d0f26"
   },
   "outputs": [],
   "source": [
    "# Os remates não são todos iguais, que outras variáveis relevantes existem?\n",
    "# Not every shot is the same, what other relevant variables are there?\n",
    "shot_pattern = re.compile('shot_*')\n",
    "shot_columns = [c for c in euro_events.columns if shot_pattern.match(c)]\n",
    "shot_columns"
   ]
  },
  {
   "cell_type": "markdown",
   "metadata": {
    "id": "ZjsHYQGQ8kfx"
   },
   "source": [
    "### 🧤 Golos improváveis / Unlikely goals\n",
    "\n",
    "[PT] [Golos esperados (xG)](https://statsbomb.com/soccer-metrics/expected-goals-xg-explained/) é uma métrica desenhada para medir a probabilidade de um golo resultar num remate.\n",
    "Por exemplo, um remate com uma valor xG de 0.2 significa que é esperado que fosse covertido em golo duas vezes por cada 10 tentativas.\n",
    "\n",
    "- Quem marcou golo a partir dos remates mais fáceis/díficeis? [**Distribution** / Dot plot]\n",
    "\n",
    "--- \n",
    "\n",
    "[EN] [Expected Goals (xG)](https://statsbomb.com/soccer-metrics/expected-goals-xg-explained/) is a metric designed to measure the probability of a shot\n",
    "resulting in a goal. For example, a shot with an xG value of 0.2 is one that we would generally expect to be converted twice in every 10 attempts.\n",
    "\n",
    "- Who is scoring easier/more difficult shots? [**Distribution** / Dot plot]"
   ]
  },
  {
   "cell_type": "code",
   "execution_count": null,
   "metadata": {
    "colab": {
     "base_uri": "https://localhost:8080/",
     "height": 365
    },
    "id": "PjRMgCbiq2OB",
    "outputId": "9b225619-d6f0-4404-fe48-c74fc94a92ed"
   },
   "outputs": [],
   "source": [
    "# Com um dot plot conseguimos uma visão mais granular dos dados.\n",
    "# A dot plot allows us to have a more granular view of the data.\n",
    "\n",
    "alt.Chart(england_shots).mark_point().encode(\n",
    "    x=alt.X(\"shot_statsbomb_xg\", scale=alt.Scale(domain=[0,1])),\n",
    "    y=alt.Y(\"player\"),\n",
    "    color=alt.Color(\"is_goal\", scale=alt.Scale(domain=[True, False], range=[tokens.COLOR_PRIMITIVES[\"teal\"][\"60\"], tokens.COLOR_PRIMITIVES[\"teal\"][\"20\"]])),\n",
    ") + alt.Chart(\n",
    "  # Desenhamos uma linha vertical na marca 0.5 para separar os remates que tinham uma probabilidade >50% de marcar golo.\n",
    "  # We render a rule at the 0.5 mark to clearly split shots that had a >50% change of scoring a goal.\n",
    "  pd.DataFrame({\"x\": [0.5]})).mark_rule(\n",
    "      stroke=tokens.COLOR_PRIMITIVES[\"neutral\"][\"20\"]\n",
    "      ).encode(x=\"x\") "
   ]
  },
  {
   "cell_type": "markdown",
   "metadata": {
    "id": "Zxj1UQTeTCSo"
   },
   "source": [
    "### 🏟 Em campo! / To the pitch! \n",
    "\n",
    "[PT] O que pode ter tornado os remates mais facéis ou difícieis? A posição em campo de onde a jogadora remata é um factor importante para prever se pode resultar em golo. Assim, vamos analisar como a dimensão do espaço influencia os remates das jogadoras. \n",
    "\n",
    "- De onde foram feitos os remates [**Spatial** / Heatmap ]\n",
    "\n",
    "---\n",
    "\n",
    "[EN] What makes shots harder or easier to take? Where a player is standing on the field when they make a shot is an important factor for determining its success. Let's now take a look at how spatial dimension impacts the player's shots.\n",
    "\n",
    "- Where did the shots happen? [**Spatial** / Heatmap ]"
   ]
  },
  {
   "cell_type": "code",
   "execution_count": null,
   "metadata": {
    "colab": {
     "base_uri": "https://localhost:8080/",
     "height": 333
    },
    "id": "38gQM4AWUb4T",
    "outputId": "f4e632d8-734c-4b94-f7a4-0e0c53cfebf8"
   },
   "outputs": [],
   "source": [
    "# A função auxiliar render_pitch desenha o campo de jogo.\n",
    "# We use the render_pitch funcion to render the playing field.\n",
    "render_pitch() + alt.Chart(england_shots).mark_rect(\n",
    "    ).encode(\n",
    "      x=alt.X(\"location_x\", bin=True),\n",
    "      y=alt.Y(\"location_y\",  bin=True),\n",
    "      opacity=\"count()\",\n",
    "      color=alt.Color(\"count()\", scale=alt.Scale(range=tokens.COLORS[\"schemes\"][\"sequential\"][\"lavenders\"][::-1]))\n",
    ")"
   ]
  },
  {
   "cell_type": "markdown",
   "metadata": {
    "id": "15rc5jOoW3Kr"
   },
   "source": [
    "[PT] Embora esta visão agregada nos permita uma visão geral dos dados, não nos permite explorar padrões multi-dimensionais. Vamos alterar o nosso gráfico de forma a dar-nos uma visão mais granular dos dados, que codifique também outras variávies\n",
    "\n",
    "Conseguimos encontrar padrões quando olhamos para propriedades de remates individuais? [**Spatial** / Dot density ]\n",
    "\n",
    "---\n",
    "\n",
    "[EN] Once again, this aggregated view gives us a big picture view of the data, but doesn't allow us to explore multidimensional patterns. Let's change our chart to a more granular view that allows us to encode other variables\n",
    "\n",
    "Can we find patterns when we look at properties of individual shots? [**Spatial** / Dot density ]\n"
   ]
  },
  {
   "cell_type": "code",
   "execution_count": null,
   "metadata": {
    "colab": {
     "base_uri": "https://localhost:8080/",
     "height": 333
    },
    "id": "N0l3TvaZum0U",
    "outputId": "97863d5d-6d35-4def-836c-205979538ad8"
   },
   "outputs": [],
   "source": [
    "render_pitch() + alt.Chart(england_shots).mark_point(\n",
    "      opacity=0.75,\n",
    "      fill=\"transparent\",\n",
    "      strokeWidth=1.8,\n",
    "      size=50\n",
    "    ).encode(\n",
    "      x=alt.X(\"location_x\"),\n",
    "      y=alt.Y(\"location_y\"),\n",
    "      stroke=alt.Stroke(\"shot_statsbomb_xg\", scale=alt.Scale(range=tokens.COLORS[\"schemes\"][\"sequential\"][\"lavenders\"][:-2][::-1])),\n",
    "      shape=alt.Shape(\"is_goal\", scale=alt.Scale(domain=[True, False], range=[\"circle\", cross_shape])),\n",
    "      # fill=alt.Color(\"shot_statsbomb_xg\", scale=alt.Scale(range=tokens.COLORS[\"schemes\"][\"sequential\"][\"lavenders\"][:-2][::-1])),\n",
    "      # size=\"shot_statsbomb_xg\"\n",
    ")"
   ]
  },
  {
   "cell_type": "markdown",
   "metadata": {
    "id": "Gc3A3-nbXA4m"
   },
   "source": [
    "## 🪄 Interação / Interactivity"
   ]
  },
  {
   "cell_type": "markdown",
   "metadata": {
    "id": "7GWpipKhanIw"
   },
   "source": [
    "[PT] O gráfico de barras e a visão espacial dos remates permitiram-nos analísar os dados de perspectivas diferentes. Como vimos no último gráfico, ao codificarmos mais e mais variáveis no mesmo gráfico este pode tornar-se confuso. Como poderiamos cruzar as duas analíses e encontrar padrões entre estas variáveis?  A **interactividade** é uma ferramenta que nos permite criar estas analíses multidimensionais ricas.\n",
    "\n",
    "---\n",
    "\n",
    "[EN] The bar chart and the spatial view of the shots gave us different perspectives of the data. As we've just seen in the last chart, adding more and more visual encoding can easily become confusing. How might we combine our two previous analysis and find patterns across these variables? **Interactivity** is a powerful tool to create rich multidimensional analysis.\n",
    "\n",
    "\n"
   ]
  },
  {
   "cell_type": "code",
   "execution_count": null,
   "metadata": {
    "colab": {
     "base_uri": "https://localhost:8080/",
     "height": 708
    },
    "id": "zhA_f2ROXD32",
    "outputId": "b9b6c1fa-d0de-4bb3-9b1c-93db8d94ba90"
   },
   "outputs": [],
   "source": [
    "def shot_map(team, color=\"blue\"):\n",
    "    goal_color_scale = alt.Scale(\n",
    "          domain=[True, False], \n",
    "          range=[\n",
    "              tokens.COLOR_PRIMITIVES[color][\"60\"], \n",
    "              tokens.COLOR_PRIMITIVES[color][\"30\"]\n",
    "      ])\n",
    "\n",
    "    # Setup brush (field) and click (bar) interactions.\n",
    "    # Configuramos as interações de brush (campo) e click (barras).\n",
    "    #\n",
    "    # https://altair-viz.github.io/user_guide/interactions.html\n",
    "    brush = alt.selection_interval()\n",
    "    click = alt.selection_multi(fields=['player'])\n",
    "\n",
    "    country_shots = euro_events[\n",
    "        (euro_events[\"team\"] == team) & \n",
    "        (euro_events[\"type\"] == \"Shot\")\n",
    "    ]\n",
    "\n",
    "    # Vamos precisar de fixar qual é o domínio do gráfico de barras para que não se altere entre interações/filtros\n",
    "    # We will need to fix the domain of the bar chart so that it doesn't change when a filter is active.\n",
    "    players_with_shots_sorted = list(\n",
    "      country_shots.groupby([\"player\"]).size().sort_values(ascending=False).index\n",
    "    )\n",
    "    \n",
    "    # Simbolos dos remates no campo.\n",
    "    # Symbols per shot to be rendered on the pitch.\n",
    "    shots = alt.Chart(country_shots).mark_point(\n",
    "      opacity=0.75,\n",
    "      fill=\"transparent\",\n",
    "      strokeWidth=1.8,\n",
    "      size=50\n",
    "      ).encode(\n",
    "        x=\"location_x\",\n",
    "        y=\"location_y\",\n",
    "        stroke=alt.Color(\"is_goal\", scale=goal_color_scale ),\n",
    "        size=alt.Size(\"shot_statsbomb_xg\", scale=alt.Scale(domain=[0,1])),\n",
    "        shape=alt.Shape(\"is_goal\", scale=alt.Scale(\n",
    "            domain=[True, False], \n",
    "            range=[\"circle\", cross_shape]\n",
    "        )),\n",
    "        opacity=alt.condition(brush, alt.value(1), alt.value(0.3))\n",
    "    ).add_selection(brush).transform_filter(\n",
    "        click\n",
    "    )\n",
    "    \n",
    "    # Ordered bar chart.\n",
    "    # Gráfico de barras ordenado.\n",
    "    players_shots = alt.Chart(country_shots).mark_bar().encode(\n",
    "      y=alt.Y(\n",
    "          \"player\",\n",
    "          sort=\"-x\",\n",
    "          scale=alt.Scale(domain=players_with_shots_sorted)\n",
    "      ),\n",
    "      x=alt.X(\"count()\", scale=alt.Scale(domain=[0,6])),\n",
    "      color=alt.Color(\"is_goal\", scale=goal_color_scale),\n",
    "      opacity=alt.condition(click, alt.value(1), alt.value(0.5))\n",
    "    ).transform_filter(\n",
    "      brush\n",
    "    ).add_selection(\n",
    "      click\n",
    "    )\n",
    "    \n",
    "    # Após interação, as barras são filtradas para corresponder à selecção. De forma\n",
    "    # manter o contexto do total de remates por jogadora, desenhamos o contorno da barra \n",
    "    # completa que está sempre visível.\n",
    "    # After interaction, the stacked bars are filtered to match selection. In order to \n",
    "    # keep context of how many shots each player made, we render the outline of the \n",
    "    # full bar at all times.\n",
    "    players_shots_bg = alt.Chart(country_shots).mark_bar(\n",
    "      fill=\"transparent\", \n",
    "      strokeWidth=0.2, \n",
    "      stroke=tokens.COLOR_PRIMITIVES[\"neutral\"][\"20\"]\n",
    "      ).encode(\n",
    "        y=alt.Y(\"player\", \n",
    "                sort=\"-x\", \n",
    "                scale=alt.Scale(domain=players_with_shots_sorted), \n",
    "                axis=alt.Axis(title=\"\")\n",
    "        ),\n",
    "        x=alt.X(\"count()\", \n",
    "                scale=alt.Scale(domain=[0,18]), \n",
    "                axis=alt.Axis(tickMinStep=1, title=\"Number of shots\")\n",
    "        ),\n",
    "    )\n",
    "    \n",
    "    country_shot_map = render_pitch() + shots\n",
    "    players_shot_bars = players_shots_bg + players_shots\n",
    "    \n",
    "    return (country_shot_map & players_shot_bars).properties(\n",
    "        title=f\"{team} Shot Map\"\n",
    "    )\n",
    "\n",
    "\n",
    "shot_map(\"England Women's\")"
   ]
  },
  {
   "cell_type": "code",
   "execution_count": null,
   "metadata": {
    "colab": {
     "base_uri": "https://localhost:8080/",
     "height": 708
    },
    "id": "dT0gkzlAYCQ0",
    "outputId": "67f8a3ad-8fbb-4b7a-e68f-0549a79bf52d"
   },
   "outputs": [],
   "source": [
    "(shot_map(\"England Women's\", \"blue\") | \n",
    "    shot_map(\"Portugal Women's\", \"red\" )\n",
    ").resolve_scale(\n",
    "    color=\"independent\",\n",
    "    stroke=\"independent\"\n",
    ")"
   ]
  },
  {
   "cell_type": "markdown",
   "metadata": {
    "id": "TL9PPq9FYGRh"
   },
   "source": [
    "## 📚 Material Adicional / Additional Resources\n",
    "\n",
    "*  [Altair Documentation](https://altair-viz.github.io/)\n",
    "*  [statsbombpy package](https://github.com/statsbomb/statsbombpy)\n",
    "*  [Accessing & Working With StatsBomb Data In R](https://statsbomb.com/wp-content/uploads/2021/11/Working-with-R.pdf)\n",
    "*  [U. Washington Data Visualization Curriculum with Altair](https://uwdata.github.io/visualization-curriculum/intro.html)\n",
    "\n"
   ]
  }
 ],
 "metadata": {
  "colab": {
   "collapsed_sections": [
    "T8QdbZp_LO6k",
    "nfJwNeNym8J-"
   ],
   "provenance": [],
   "toc_visible": true
  },
  "kernelspec": {
   "display_name": "Python 3.9.13 ('.venv': venv)",
   "language": "python",
   "name": "python3"
  },
  "language_info": {
   "codemirror_mode": {
    "name": "ipython",
    "version": 3
   },
   "file_extension": ".py",
   "mimetype": "text/x-python",
   "name": "python",
   "nbconvert_exporter": "python",
   "pygments_lexer": "ipython3",
   "version": "3.9.13"
  },
  "vscode": {
   "interpreter": {
    "hash": "a14cf3c57984cfa10023886f798f1c022f48889f52c1f17fa544c06a993adfec"
   }
  }
 },
 "nbformat": 4,
 "nbformat_minor": 4
}
